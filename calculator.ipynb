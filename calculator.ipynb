#define input
a = int(input("Enter The First Number:"))
b = int(input("Enter The Second Number:"))
#mathematical opreators
operator = input("Enter operators +,-,* or /: ")
if operator =='+':
 print(a+b)
elif operator =='-':
 print(a-b)
elif operator =='*':
 print(a*b) 
elif operator =='/':
 print(a/b)
else:
   print("Invalid operator")  
     
