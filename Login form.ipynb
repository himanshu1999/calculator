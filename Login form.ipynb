def choice():
  print("Welcome")
  choice = (int(input("""To Register press 1 login in press 2: """)))
  if choice ==1:
    return register()
  elif choice ==2:
    return login()
  else:
    return "type error"

def register():
    username = input("Please input the first name ")
    password = input("Please input your own password ")
    file = open("identify.txt","a")
    file.write(username)
    file.write(" ")
    file.write(password)
    file.write("\n")
    file.close()
    if login():
        print("You are now logged in...")
    else:
        print("You aren't logged in!")

def login():
   print("Please login")
   name = str(input("Enter your username: "))
   password = str(input("Enter your password:"))
   f=open("identify.txt",'r')
   info = f.read()
   info = info.split()
   if name in info:
     index = info.index(name) + 1
     usr_password = info[index]
     if usr_password == password:
         return "Welcome Back, " + name
     else:
         return "Password is Wrong"
     breakpoint()
   else:
     print("Id not found,please Register")
     return getdetails()

print(choice()) 

 
